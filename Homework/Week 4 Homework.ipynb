{
 "cells": [
  {
   "cell_type": "markdown",
   "id": "01568881",
   "metadata": {},
   "source": [
    "# ChatBot Logs\n",
    "- Questions 1-4: https://chatgpt.com/share/66fec5cd-0aa8-8011-ac79-76e16f593bb0\n",
    "- Questions 5-9: "
   ]
  },
  {
   "cell_type": "markdown",
   "id": "9d48cca2",
   "metadata": {},
   "source": [
    "## Question 1\n",
    "- Standard deviation is a measurement of how closely the data points in a dataset are to their mean. It is meant to describe the variability of the data.\n",
    "- Standard error of the mean is a measurement of how closely the sample means in the sampling distribution are to the mean of the sample means. It is meant to describe the variability of the means when bootstrapping multiple times. The standard error of the mean can also be interpreted as the error you can expect to have when estimating the population mean using the sample means."
   ]
  },
  {
   "cell_type": "markdown",
   "id": "af5d0a99",
   "metadata": {},
   "source": [
    "## Question 2\n",
    "- Step 1: Calculate the sample mean (x̄)\n",
    "- Step 2: Use a t-table or a z-table to find the critical value of the interval. For a 95% CI, the critical value would be 1.96. (t-score is used when you have a small sample size and unknown population parameters. z-score is used when you have a large sample size or if you know the population's parameters)\n",
    "- Step 3: Calculate the standard error\n",
    "- Step 4: Calculate the confidence interval: CI = x̄ +/- 1.96*SE"
   ]
  },
  {
   "cell_type": "markdown",
   "id": "6e89ffbb",
   "metadata": {},
   "source": [
    "## Question 3\n",
    "- Step 1: Take many bootstrapped samples and create a sampling distribution of the means\n",
    "- Step 2: Determine the quantile we want for our interval. For a 95% CI, we want between the 2.5th percentile (meaning 2.5% of the data lies below this) and the 97.5th percentile (97.5% of the data lies below this). This is because, the 97.5% of the data that is below the 97.5th percentile minus the 2.5% that is not included between the two bounds, will equal 95%.\n",
    "- Step 3: Using the np.quantile() function, calculate the confidence interval.\n",
    "  - lower_bound = np.quantile(bootstrapped_means, 0.025)\n",
    "  - upper_bound = np.quantile(bootstrapped_means, 0.975)\n",
    "  - This means the confidence interval would be between this lower_bound and upper_bound"
   ]
  },
  {
   "cell_type": "markdown",
   "id": "8aa1fb4b",
   "metadata": {},
   "source": [
    "## Question 4\n"
   ]
  },
  {
   "cell_type": "code",
   "execution_count": 2,
   "id": "21e0c2a5",
   "metadata": {},
   "outputs": [
    {
     "name": "stdout",
     "output_type": "stream",
     "text": [
      "95% Bootstrap Confidence Interval for the Mean: (12.8, 16.7)\n"
     ]
    }
   ],
   "source": [
    "# 95% Confidence Interval for Population Mean\n",
    "\n",
    "import numpy as np\n",
    "\n",
    "# Example sample data\n",
    "sample_data = np.array([12, 15, 14, 10, 18, 20, 13, 16, 19, 11])\n",
    "\n",
    "# Number of bootstrap samples\n",
    "n_bootstraps = 1000\n",
    "\n",
    "# List to store bootstrapped means\n",
    "bootstrapped_means = []\n",
    "\n",
    "# Generate bootstrap samples and calculate means\n",
    "for _ in range(n_bootstraps):\n",
    "    bootstrap_sample = np.random.choice(sample_data, size=len(sample_data), replace=True)\n",
    "    bootstrapped_means.append(np.mean(bootstrap_sample))\n",
    "\n",
    "# Calculate the 2.5th and 97.5th percentiles for the 95% CI\n",
    "lower_bound = np.quantile(bootstrapped_means, 0.025)\n",
    "upper_bound = np.quantile(bootstrapped_means, 0.975)\n",
    "\n",
    "# 95% bootstrap confidence interval for the mean\n",
    "ci_95_mean = (lower_bound, upper_bound)\n",
    "\n",
    "print(f\"95% Bootstrap Confidence Interval for the Mean: {ci_95_mean}\")"
   ]
  },
  {
   "cell_type": "code",
   "execution_count": 4,
   "id": "07b9b76a",
   "metadata": {},
   "outputs": [
    {
     "name": "stdout",
     "output_type": "stream",
     "text": [
      "95% Bootstrap Confidence Interval for the Median: (12.0, 18.01249999999999)\n"
     ]
    }
   ],
   "source": [
    "# 95% Confidence Interval for Population Median\n",
    "\n",
    "import numpy as np\n",
    "\n",
    "# Example sample data\n",
    "sample_data = np.array([12, 15, 14, 10, 18, 20, 13, 16, 19, 11])\n",
    "\n",
    "# Number of bootstrap samples\n",
    "n_bootstraps = 1000\n",
    "\n",
    "# List to store bootstrapped medians\n",
    "bootstrapped_medians = []\n",
    "\n",
    "# Generate bootstrap samples and calculate medians\n",
    "for _ in range(n_bootstraps):\n",
    "    bootstrap_sample = np.random.choice(sample_data, size=len(sample_data), replace=True)\n",
    "    bootstrapped_medians.append(np.median(bootstrap_sample))\n",
    "\n",
    "# Calculate the 2.5th and 97.5th percentiles for the 95% CI\n",
    "lower_bound = np.quantile(bootstrapped_medians, 0.025)\n",
    "upper_bound = np.quantile(bootstrapped_medians, 0.975)\n",
    "\n",
    "# 95% bootstrap confidence interval for the median\n",
    "ci_95_median = (lower_bound, upper_bound)\n",
    "\n",
    "print(f\"95% Bootstrap Confidence Interval for the Median: {ci_95_median}\")\n",
    "\n",
    "\n",
    "# This code works for a variety of parameters will small adjustments.\n",
    "# Mean: np.mean()\n",
    "# Median: np.median()\n",
    "# Variance: np.var()\n",
    "# Standard Deviation: np.std()"
   ]
  },
  {
   "cell_type": "markdown",
   "id": "3d26f62b",
   "metadata": {},
   "source": [
    "## Question 5\n",
    "\n",
    "- The difference between a population parameter and a sample statistic is that the population parameters are fixed values that we usually do not know. These are the things that we are trying to predict using the sample statistics. They include the statistics of all members of the population. Sample statistics on the other hand are measurable values that are observed within the sample only. These can help give us an idea of what the population might look like but they will likely not produce the exact same value.\n",
    "- The general formula for confidence interval is: CI = x̄ +/- (z)(σ/sqrt(n))\n",
    "  - x̄, z, and n are sample statistics\n",
    "  - σ is a population parameter\n",
    "- Since we often do not know the population parameters, we cannot use σ. In this case, we can instead use the sample standard deviation as an estimation of the population standard deviation. This is the formula: CI = x̄ +/- (z)(s/sqrt(n))\n",
    "  - x̄, z, s, and n are all sample statistics"
   ]
  },
  {
   "cell_type": "markdown",
   "id": "0e8a5fd1",
   "metadata": {},
   "source": [
    "## Question 6\n",
    "1. What is the process of bootstrapping?\n",
    "\n",
    "  - Bootstrapping is when you take a sample of some population and manipulate it to provide a very accurate distribution without needing a super large sample size. We do this by randomly sampling from our initial sample with replacement. Each of these sub-samples must be the same size as the initial sample but because we are sampling with replacement this time, the sub-sample will usually not be the same as the initial sample. We then take this subsample, record a statistic about it and then resample. After collecting sufficient sample statistics, we can create a sampling distribution out of them. This sampling distribution turns out to be highly accurate with the population. Essentially, bootstrapping is attempting to simulate the population using the few data points that you have by repeatedly shuffling them around.\n",
    "\n",
    "2. What is the main purpose of bootstrapping?\n",
    "\n",
    "  - The main purpose of bootstrapping is to save time and money for statisticians. It is often very costly to get a very large sample size and very time consuming as well but if we had just 1 medium sized sample that we can just resample from using a computer, it is a lot more efficient. It will also help you see the range of possible outcomes so you can understand how confidently your distribution can simulate the population.\n",
    "\n",
    "3. If you had a (hypothesized) guess about what the average of a population was, and you had a sample of size n from that population, how could you use bootstrapping to assess whether or not your (hypothesized) guess might.\n",
    "  - Take samples from your sample with replacement and record the average of each of these samples.\n",
    "  - Create a sampling distribution using those average values.\n",
    "  - Calculate the standard error of the means.\n",
    "  - See if your hypothesis aligns with the collected sample means."
   ]
  },
  {
   "cell_type": "markdown",
   "id": "58c9e97d",
   "metadata": {},
   "source": [
    "## Question 7\n",
    "Why does a confidence interval overlapping zero \"fail to reject the null hypothesis\" when the observed sample mean statistic itself is not zero? Alternatively, what would lead to the opposite conclusion in this context; namely, instead choosing \"to reject the null hypothesis\"?\n",
    "\n",
    "To reject the null hypothesis (that the mean is zero), we must show that with our data, it is unlikely for that null hypothesis to be true. If the hypothesized mean lies within our 95% confidence interval, then we cannot reject it because we are saying that we are 95% certain that the population mean lies in that interval. If the population mean really was zero, then it would satisfy the 95% certainty of our claim. Alternatively, if zero was not in the interval, we can say that we are 95% certain that the population mean lies in some interval and since zero is not in that interval, it is unlikely for the population mean to be zero. We can reject the null hypothesis because it is unlikely for that hypothesis to be true."
   ]
  },
  {
   "cell_type": "markdown",
   "id": "8a64759e",
   "metadata": {},
   "source": [
    "## Question 8\n",
    "In this scenario, the null hypothesis is that the vaccine has no effect on the patients' health. To claim that the vaccine is helping the patients, we must reject this null hypothesis to imply the alternative hypothesis that the vaccine does in fact work. To do this, we can use bootstrapping to find how much the patients' health score changes when they take this vaccine. We can use this to predict how the average patient will react to it (will it improve their health or not?). Based on our confidence interval from bootstrapping, we can reject (or fail to reject) the null hypothesis and make a conclusion accordingly."
   ]
  },
  {
   "cell_type": "code",
   "execution_count": 16,
   "id": "efc077df",
   "metadata": {},
   "outputs": [
    {
     "name": "stdout",
     "output_type": "stream",
     "text": [
      "95% Bootstrap Confidence Interval for the Mean Health Score Difference: (1.0, 5.6)\n",
      "The vaccine appears to have a significant positive effect on health.\n"
     ]
    },
    {
     "data": {
      "image/png": "[encoded data removed]"
     },
     "metadata": {},
     "output_type": "display_data"
    }
   ],
   "source": [
    "# Question 8\n",
    "\n",
    "import numpy as np\n",
    "import pandas as pd\n",
    "import plotly.express as px\n",
    "\n",
    "# Create the dataframe with the given data\n",
    "data = {\n",
    "    \"PatientID\": [1, 2, 3, 4, 5, 6, 7, 8, 9, 10],\n",
    "    \"Age\": [45, 34, 29, 52, 37, 41, 33, 48, 26, 39],\n",
    "    \"Gender\": ['M', 'F', 'M', 'F', 'M', 'F', 'M', 'F', 'M', 'F'],\n",
    "    \"InitialHealthScore\": [84, 78, 83, 81, 81, 80, 79, 85, 76, 83],\n",
    "    \"FinalHealthScore\": [86, 86, 80, 86, 84, 86, 86, 82, 83, 84]\n",
    "}\n",
    "\n",
    "df = pd.DataFrame(data)\n",
    "\n",
    "# Calculate the health score differences\n",
    "df['HealthScoreDifference'] = df['FinalHealthScore'] - df['InitialHealthScore']\n",
    "\n",
    "# Bootstrapping parameters\n",
    "n_bootstraps = 1000\n",
    "bootstrapped_means = []\n",
    "\n",
    "# Perform bootstrapping\n",
    "for _ in range(n_bootstraps):\n",
    "    bootstrap_sample = np.random.choice(df['HealthScoreDifference'], size=len(df), replace=True)\n",
    "    bootstrapped_means.append(np.mean(bootstrap_sample))\n",
    "\n",
    "# Calculate the 2.5th and 97.5th percentiles for the 95% CI\n",
    "lower_bound = np.percentile(bootstrapped_means, 2.5)\n",
    "upper_bound = np.percentile(bootstrapped_means, 97.5)\n",
    "\n",
    "# Output results\n",
    "print(f\"95% Bootstrap Confidence Interval for the Mean Health Score Difference: ({lower_bound}, {upper_bound})\")\n",
    "\n",
    "# Determine if the CI suggests a significant effect\n",
    "if lower_bound > 0:\n",
    "    print(\"The vaccine appears to have a significant positive effect on health.\")\n",
    "else:\n",
    "    print(\"The vaccine's effect on health is not significant.\")\n",
    "\n",
    "fig = px.box(x=bootstrapped_means, title='Bootstrapped Means of Health Score Difference')\n",
    "fig.add_vline(x=lower_bound, line_dash=\"dash\", line_color=\"red\", annotation_text=\"2.5th Percentile\", annotation_position=\"top left\")\n",
    "fig.add_vline(x=upper_bound, line_dash=\"dash\", line_color=\"green\", annotation_text=\"97.5th Percentile\", annotation_position=\"top left\")\n",
    "fig.update_layout(xaxis_title='Bootstrapped Means', yaxis_title='Values')\n",
    "fig.show(renderer=\"png\")"
   ]
  },
  {
   "cell_type": "markdown",
   "id": "f9aa8104",
   "metadata": {},
   "source": [
    "## Question 8 continued\n",
    "Quantitative Analysis:\n",
    "- Code explanation:\n",
    "  - First, we create a dictionary to store our data in json format\n",
    "  - Next, we use the pandas library to create a DataFrame object using the json data\n",
    "  - Then, we add a column 'HealthScoreDifference' to track the effect the vaccine had on each person\n",
    "  - After, we use bootstrapping to resample the DataFrame 1000 times with replacement, recording the mean HealthScoreDifference of each in the bootstrapped_means list\n",
    "  - Next, we calculate the lower and upper bounds of a 95% confidence interval\n",
    "    - A confidence interval of (1.0, 5.6) means that we are 95% certain that the population mean of HealthScoreDifference is somewhere between 1.0 and 5.6\n",
    "- Supporting Visualizations\n",
    "  - The boxplot at the bottom shows the distribution of the bootstrapped means of the HealthScoreDifferences\n",
    "  - There are two clear outliers that show a decrease in health score but the quartiles are all well above 0.\n",
    "  - The dashed red line indicates the 2.5th percentile\n",
    "  - The dashed green line indicates the 97.5th percentile\n",
    "  - The area between the red and green lines is our confidence interval\n",
    "\n",
    "Findings and Discussion\n",
    "- Conclusion\n",
    "  - Since the confidence interval does not include anything less than or equal to 0, we can reject the null hypothesis\n",
    "  - Rejecting the null hypothesis implies the alternative, meaning the vaccine has a significant positive effect on health\n",
    "- Further Considerations\n",
    "  - The gender of the patient could have some impact on its effectiveness\n",
    "  - The age of the patient could have some impact on its effectiveness"
   ]
  },
  {
   "cell_type": "markdown",
   "id": "559e12d7",
   "metadata": {},
   "source": [
    "## Question 9\n",
    "Yes"
   ]
  }
 ],
 "metadata": {
  "kernelspec": {
   "display_name": "Python 3 (ipykernel)",
   "language": "python",
   "name": "python3"
  },
  "language_info": {
   "codemirror_mode": {
    "name": "ipython",
    "version": 3
   },
   "file_extension": ".py",
   "mimetype": "text/x-python",
   "name": "python",
   "nbconvert_exporter": "python",
   "pygments_lexer": "ipython3",
   "version": "3.11.6"
  }
 },
 "nbformat": 4,
 "nbformat_minor": 5
}
